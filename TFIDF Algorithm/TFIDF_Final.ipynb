{
 "cells": [
  {
   "attachments": {
    "image.png": {
     "image/png": "[encoded data removed]"
    }
   },
   "cell_type": "markdown",
   "metadata": {},
   "source": [
    "### This particular algorithm is implementation of TF-IDF (Term Frequency - Inverse Document Frequency)\n",
    "It is also known as Term Document Matrix.\n",
    "    \n",
    "![image.png](attachment:image.png)\n"
   ]
  },
  {
   "cell_type": "code",
   "execution_count": 1,
   "metadata": {},
   "outputs": [],
   "source": [
    "#importing all the necessary packages that might be necessary\n",
    "import os\n",
    "from time import sleep\n",
    "\n",
    "#Data Wrangling and manipulation\n",
    "import pandas as pd\n",
    "import matplotlib.pyplot as plt\n",
    "%matplotlib inline\n",
    "\n",
    "#import math\n",
    "import math\n",
    "import operator\n",
    "import json\n",
    "\n",
    "\n",
    "#Import nltk pacakages\n",
    "import nltk\n",
    "from nltk.tokenize import sent_tokenize, word_tokenize, PunktSentenceTokenizer\n",
    "from nltk.corpus import stopwords"
   ]
  },
  {
   "cell_type": "markdown",
   "metadata": {},
   "source": [
    "###### Opening the text files present containing the resume information"
   ]
  },
  {
   "cell_type": "code",
   "execution_count": 2,
   "metadata": {},
   "outputs": [],
   "source": [
    "f_open = open('resume.txt','r')\n",
    "lines = f_open.readlines()\n",
    "#trimming the first and last characters basically trimming off the whitespaces and storing them as a list format\\\n",
    "# W/o considering the commas and other hyperlinks\n",
    "my_str = ('\\t'.join([l.strip() for l in lines])).lower()"
   ]
  },
  {
   "cell_type": "code",
   "execution_count": 3,
   "metadata": {},
   "outputs": [],
   "source": [
    "g_open = open('resume1.txt','r')\n",
    "lines = g_open.readlines()\n",
    "my_str1 = ('\\t'.join([l.strip() for l in lines])).lower()"
   ]
  },
  {
   "cell_type": "markdown",
   "metadata": {},
   "source": [
    "###### Displaying whatever is present in both my_str and my_str1 "
   ]
  },
  {
   "cell_type": "code",
   "execution_count": 4,
   "metadata": {},
   "outputs": [
    {
     "data": {
      "text/plain": [
       "'sean goedecke\\tsean.goedecke@gmail.com\\ti build adequate software rapidly\\texperience\\tassociate software engineer at zendesk\\t2016 - 2017\\ti use react and ruby on rails to build good apps.\\tzendesk intern at zendesk\\t2015 - 2016\\teducation\\tmelbourne university\\tma in philosophy\\tcompleted in 2016\\tskills\\treact\\truby on rails\\ttravis ci\\tdocker\\tinterests\\ti enjoy hiking, drinking coffee and science fiction'"
      ]
     },
     "execution_count": 4,
     "metadata": {},
     "output_type": "execute_result"
    }
   ],
   "source": [
    "my_str"
   ]
  },
  {
   "cell_type": "code",
   "execution_count": 5,
   "metadata": {},
   "outputs": [
    {
     "data": {
      "text/plain": [
       "'emilio franecki\\thorace47@hotmail.com\\ti build indexing open-source cards\\texperience\\tinternational division liaison at hodkiewicz - russel\\t2016\\ti managed the inverse systematic success\\tfrontend coder at gutkowski, rice and gleichner\\t2016\\ti managed the expanded needs-based circuit\\teducation\\tkansas university\\tphd in philosophy\\tcompleted in 2016\\tskills\\treact\\tcloud sdd\\trss.js\\tdocker\\tinterests\\ti enjoy local theatre, patting dogs, swimming, triathlons and craft beer'"
      ]
     },
     "execution_count": 5,
     "metadata": {},
     "output_type": "execute_result"
    }
   ],
   "source": [
    "my_str1"
   ]
  },
  {
   "cell_type": "markdown",
   "metadata": {},
   "source": [
    "##### Tokenizing the strings by words using the nltk.tokenize package  "
   ]
  },
  {
   "cell_type": "code",
   "execution_count": 6,
   "metadata": {},
   "outputs": [
    {
     "name": "stdout",
     "output_type": "stream",
     "text": [
      "['sean', 'goedecke', 'sean.goedecke', '@', 'gmail.com', 'i', 'build', 'adequate', 'software', 'rapidly', 'experience', 'associate', 'software', 'engineer', 'at', 'zendesk', '2016', '-', '2017', 'i', 'use', 'react', 'and', 'ruby', 'on', 'rails', 'to', 'build', 'good', 'apps', '.', 'zendesk', 'intern', 'at', 'zendesk', '2015', '-', '2016', 'education', 'melbourne', 'university', 'ma', 'in', 'philosophy', 'completed', 'in', '2016', 'skills', 'react', 'ruby', 'on', 'rails', 'travis', 'ci', 'docker', 'interests', 'i', 'enjoy', 'hiking', ',', 'drinking', 'coffee', 'and', 'science', 'fiction']\n",
      "\n",
      "['emilio', 'franecki', 'horace47', '@', 'hotmail.com', 'i', 'build', 'indexing', 'open-source', 'cards', 'experience', 'international', 'division', 'liaison', 'at', 'hodkiewicz', '-', 'russel', '2016', 'i', 'managed', 'the', 'inverse', 'systematic', 'success', 'frontend', 'coder', 'at', 'gutkowski', ',', 'rice', 'and', 'gleichner', '2016', 'i', 'managed', 'the', 'expanded', 'needs-based', 'circuit', 'education', 'kansas', 'university', 'phd', 'in', 'philosophy', 'completed', 'in', '2016', 'skills', 'react', 'cloud', 'sdd', 'rss.js', 'docker', 'interests', 'i', 'enjoy', 'local', 'theatre', ',', 'patting', 'dogs', ',', 'swimming', ',', 'triathlons', 'and', 'craft', 'beer']\n"
     ]
    }
   ],
   "source": [
    "#tokenizing the strings\n",
    "mystr_token = word_tokenize(my_str)\n",
    "mystr1_token = word_tokenize(my_str1)\n",
    "\n",
    "#Display the tokenized words\n",
    "print(mystr_token)\n",
    "print()\n",
    "print(mystr1_token)"
   ]
  },
  {
   "cell_type": "markdown",
   "metadata": {},
   "source": [
    "###### Trying to find out all the unique words present"
   ]
  },
  {
   "cell_type": "code",
   "execution_count": 7,
   "metadata": {},
   "outputs": [
    {
     "name": "stdout",
     "output_type": "stream",
     "text": [
      "['sean', 'goedecke', 'sean.goedecke', '@', 'gmail.com', 'build', 'adequate', 'software', 'rapidly', 'experience', 'associate', 'software', 'engineer', 'zendesk', '2016', '-', '2017', 'use', 'react', 'ruby', 'rails', 'build', 'good', 'apps', '.', 'zendesk', 'intern', 'zendesk', '2015', '-', '2016', 'education', 'melbourne', 'university', 'philosophy', 'completed', '2016', 'skills', 'react', 'ruby', 'rails', 'travis', 'ci', 'docker', 'interests', 'enjoy', 'hiking', ',', 'drinking', 'coffee', 'science', 'fiction']\n",
      "\n",
      "['emilio', 'franecki', 'horace47', '@', 'hotmail.com', 'build', 'indexing', 'open-source', 'cards', 'experience', 'international', 'division', 'liaison', 'hodkiewicz', '-', 'russel', '2016', 'managed', 'inverse', 'systematic', 'success', 'frontend', 'coder', 'gutkowski', ',', 'rice', 'gleichner', '2016', 'managed', 'expanded', 'needs-based', 'circuit', 'education', 'kansas', 'university', 'phd', 'philosophy', 'completed', '2016', 'skills', 'react', 'cloud', 'sdd', 'rss.js', 'docker', 'interests', 'enjoy', 'local', 'theatre', ',', 'patting', 'dogs', ',', 'swimming', ',', 'triathlons', 'craft', 'beer']\n",
      "\n"
     ]
    }
   ],
   "source": [
    "# Setting up of stopwords to take care of excessive repeated words\n",
    "stop_words = set(stopwords.words('english'))\n",
    "fill_first = []  #Empty list\n",
    "for w in mystr_token:\n",
    "    if w not in stop_words:         #the following checks for unique words and appends them into the list\n",
    "        fill_first.append(w)\n",
    "        \n",
    "print(fill_first)\n",
    "print()\n",
    "\n",
    "fill_second = []  #Empty List\n",
    "for w in mystr1_token:\n",
    "    if w not in stop_words:         #the following checks for unique words and appends them into the list\n",
    "        fill_second.append(w)\n",
    "        \n",
    "print(fill_second)\n",
    "print()"
   ]
  },
  {
   "cell_type": "markdown",
   "metadata": {},
   "source": [
    "###### Performing a combination of the resumes provided and keepting them into a single list. \n",
    "In this phase the splitting of the documents. split() method returns a list of strings after breaking the given string by the specified separator. The Output is a list of strings after breaking the given string by the specified separator which is stored in the split sets."
   ]
  },
  {
   "cell_type": "code",
   "execution_count": 8,
   "metadata": {},
   "outputs": [
    {
     "name": "stdout",
     "output_type": "stream",
     "text": [
      "['sean', 'goedecke', 'sean.goedecke@gmail.com', 'i', 'build', 'adequate', 'software', 'rapidly', 'experience', 'associate', 'software', 'engineer', 'at', 'zendesk', '2016', '-', '2017', 'i', 'use', 'react', 'and', 'ruby', 'on', 'rails', 'to', 'build', 'good', 'apps.', 'zendesk', 'intern', 'at', 'zendesk', '2015', '-', '2016', 'education', 'melbourne', 'university', 'ma', 'in', 'philosophy', 'completed', 'in', '2016', 'skills', 'react', 'ruby', 'on', 'rails', 'travis', 'ci', 'docker', 'interests', 'i', 'enjoy', 'hiking,', 'drinking', 'coffee', 'and', 'science', 'fiction']\n",
      "\n",
      "['emilio', 'franecki', 'horace47@hotmail.com', 'i', 'build', 'indexing', 'open-source', 'cards', 'experience', 'international', 'division', 'liaison', 'at', 'hodkiewicz', '-', 'russel', '2016', 'i', 'managed', 'the', 'inverse', 'systematic', 'success', 'frontend', 'coder', 'at', 'gutkowski,', 'rice', 'and', 'gleichner', '2016', 'i', 'managed', 'the', 'expanded', 'needs-based', 'circuit', 'education', 'kansas', 'university', 'phd', 'in', 'philosophy', 'completed', 'in', '2016', 'skills', 'react', 'cloud', 'sdd', 'rss.js', 'docker', 'interests', 'i', 'enjoy', 'local', 'theatre,', 'patting', 'dogs,', 'swimming,', 'triathlons', 'and', 'craft', 'beer']\n",
      "{'ci', 'inverse', 'sean.goedecke', 'coder', 'division', 'emilio', 'intern', 'hodkiewicz', 'rice', 'rails', 'gmail.com', 'use', '-', 'good', 'experience', 'horace47', 'indexing', 'rss.js', '@', 'associate', 'university', 'sean', 'fiction', 'circuit', 'swimming', 'cloud', 'build', 'success', 'franecki', 'education', 'completed', 'philosophy', '2015', 'theatre', '2017', 'expanded', 'patting', 'international', 'skills', 'dogs', 'melbourne', 'coffee', 'russel', 'frontend', 'ruby', 'local', 'engineer', 'hotmail.com', 'open-source', 'adequate', 'rapidly', 'sdd', 'beer', 'science', 'kansas', '2016', 'apps', 'systematic', 'phd', 'liaison', '.', 'managed', 'docker', 'enjoy', 'goedecke', ',', 'react', 'craft', 'gutkowski', 'travis', 'gleichner', 'software', 'zendesk', 'interests', 'triathlons', 'needs-based', 'cards', 'drinking', 'hiking'}\n"
     ]
    }
   ],
   "source": [
    "#Combining both the strings\n",
    "docs = [my_str,my_str1]\n",
    "\n",
    "#splitting the individual sentences\n",
    "split_1 = my_str.split()    \n",
    "split_2 = my_str1.split()\n",
    "print(split_1)\n",
    "print()\n",
    "print(split_2)\n",
    "\n",
    "#combinining both the docs after extracting unique words.\n",
    "#set() is a keyword that takes in unique words\n",
    "common_unique = set(fill_first).union(set(fill_second))        \n",
    "print(common_unique)"
   ]
  },
  {
   "cell_type": "markdown",
   "metadata": {},
   "source": [
    "###### Taking a dictionary format i.e having key, value pairs. \n",
    "    The fromkeys() method creates a new dictionary from the given sequence of elements with a value provided by the user.The fromkeys() method takes two parameters:\n",
    "            ->sequence - sequence of elements which is to be used as keys for the new dictionary\n",
    "            ->value (Optional) - value which is set to each each element of the dictionary \n",
    "\n",
    "    Return value from fromkeys():\n",
    "            ->The fromkeys() method returns a new dictionary with the given sequence of elements as the keys of the dictionary.\n",
    "            ->If the value argument is set, each element of the newly created dictionary is set to the provided value.     "
   ]
  },
  {
   "cell_type": "code",
   "execution_count": 9,
   "metadata": {},
   "outputs": [
    {
     "name": "stdout",
     "output_type": "stream",
     "text": [
      "{'ci': 0, 'inverse': 0, 'sean.goedecke': 0, 'coder': 0, 'division': 0, 'emilio': 0, 'intern': 0, 'hodkiewicz': 0, 'rice': 0, 'rails': 0, 'gmail.com': 0, 'use': 0, '-': 0, 'good': 0, 'experience': 0, 'horace47': 0, 'indexing': 0, 'rss.js': 0, '@': 0, 'associate': 0, 'university': 0, 'sean': 0, 'fiction': 0, 'circuit': 0, 'swimming': 0, 'cloud': 0, 'build': 0, 'success': 0, 'franecki': 0, 'education': 0, 'completed': 0, 'philosophy': 0, '2015': 0, 'theatre': 0, '2017': 0, 'expanded': 0, 'patting': 0, 'international': 0, 'skills': 0, 'dogs': 0, 'melbourne': 0, 'coffee': 0, 'russel': 0, 'frontend': 0, 'ruby': 0, 'local': 0, 'engineer': 0, 'hotmail.com': 0, 'open-source': 0, 'adequate': 0, 'rapidly': 0, 'sdd': 0, 'beer': 0, 'science': 0, 'kansas': 0, '2016': 0, 'apps': 0, 'systematic': 0, 'phd': 0, 'liaison': 0, '.': 0, 'managed': 0, 'docker': 0, 'enjoy': 0, 'goedecke': 0, ',': 0, 'react': 0, 'craft': 0, 'gutkowski': 0, 'travis': 0, 'gleichner': 0, 'software': 0, 'zendesk': 0, 'interests': 0, 'triathlons': 0, 'needs-based': 0, 'cards': 0, 'drinking': 0, 'hiking': 0}\n",
      "{'ci': 0, 'inverse': 0, 'sean.goedecke': 0, 'coder': 0, 'division': 0, 'emilio': 0, 'intern': 0, 'hodkiewicz': 0, 'rice': 0, 'rails': 0, 'gmail.com': 0, 'use': 0, '-': 0, 'good': 0, 'experience': 0, 'horace47': 0, 'indexing': 0, 'rss.js': 0, '@': 0, 'associate': 0, 'university': 0, 'sean': 0, 'fiction': 0, 'circuit': 0, 'swimming': 0, 'cloud': 0, 'build': 0, 'success': 0, 'franecki': 0, 'education': 0, 'completed': 0, 'philosophy': 0, '2015': 0, 'theatre': 0, '2017': 0, 'expanded': 0, 'patting': 0, 'international': 0, 'skills': 0, 'dogs': 0, 'melbourne': 0, 'coffee': 0, 'russel': 0, 'frontend': 0, 'ruby': 0, 'local': 0, 'engineer': 0, 'hotmail.com': 0, 'open-source': 0, 'adequate': 0, 'rapidly': 0, 'sdd': 0, 'beer': 0, 'science': 0, 'kansas': 0, '2016': 0, 'apps': 0, 'systematic': 0, 'phd': 0, 'liaison': 0, '.': 0, 'managed': 0, 'docker': 0, 'enjoy': 0, 'goedecke': 0, ',': 0, 'react': 0, 'craft': 0, 'gutkowski': 0, 'travis': 0, 'gleichner': 0, 'software': 0, 'zendesk': 0, 'interests': 0, 'triathlons': 0, 'needs-based': 0, 'cards': 0, 'drinking': 0, 'hiking': 0}\n"
     ]
    }
   ],
   "source": [
    "#Taking a dictionary format\n",
    "dict1 = dict.fromkeys(common_unique,0)\n",
    "dict2 = dict.fromkeys(common_unique,0)\n",
    "\n",
    "print(dict1)\n",
    "print(dict2)"
   ]
  },
  {
   "cell_type": "markdown",
   "metadata": {},
   "source": [
    "###### The bag of words methodology is carried out in this particular cell. Checking for which word occurs multiple times and accordingly manipulating its associated value. "
   ]
  },
  {
   "cell_type": "code",
   "execution_count": 10,
   "metadata": {},
   "outputs": [
    {
     "name": "stdout",
     "output_type": "stream",
     "text": [
      "{'ci': 1, 'inverse': 0, 'sean.goedecke': 1, 'coder': 0, 'division': 0, 'emilio': 0, 'intern': 1, 'hodkiewicz': 0, 'rice': 0, 'rails': 2, 'gmail.com': 1, 'use': 1, '-': 2, 'good': 1, 'experience': 1, 'horace47': 0, 'indexing': 0, 'rss.js': 0, '@': 1, 'associate': 1, 'university': 1, 'sean': 1, 'fiction': 1, 'circuit': 0, 'swimming': 0, 'cloud': 0, 'build': 2, 'success': 0, 'franecki': 0, 'education': 1, 'completed': 1, 'philosophy': 1, '2015': 1, 'theatre': 0, '2017': 1, 'expanded': 0, 'patting': 0, 'international': 0, 'skills': 1, 'dogs': 0, 'melbourne': 1, 'coffee': 1, 'russel': 0, 'frontend': 0, 'ruby': 2, 'local': 0, 'engineer': 1, 'hotmail.com': 0, 'open-source': 0, 'adequate': 1, 'rapidly': 1, 'sdd': 0, 'beer': 0, 'science': 1, 'kansas': 0, '2016': 3, 'apps': 1, 'systematic': 0, 'phd': 0, 'liaison': 0, '.': 1, 'managed': 0, 'docker': 1, 'enjoy': 1, 'goedecke': 1, ',': 1, 'react': 2, 'craft': 0, 'gutkowski': 0, 'travis': 1, 'gleichner': 0, 'software': 2, 'zendesk': 3, 'interests': 1, 'triathlons': 0, 'needs-based': 0, 'cards': 0, 'drinking': 1, 'hiking': 1} \n",
      "\n",
      "{'ci': 0, 'inverse': 1, 'sean.goedecke': 0, 'coder': 1, 'division': 1, 'emilio': 1, 'intern': 0, 'hodkiewicz': 1, 'rice': 1, 'rails': 0, 'gmail.com': 0, 'use': 0, '-': 1, 'good': 0, 'experience': 1, 'horace47': 1, 'indexing': 1, 'rss.js': 1, '@': 1, 'associate': 0, 'university': 1, 'sean': 0, 'fiction': 0, 'circuit': 1, 'swimming': 1, 'cloud': 1, 'build': 1, 'success': 1, 'franecki': 1, 'education': 1, 'completed': 1, 'philosophy': 1, '2015': 0, 'theatre': 1, '2017': 0, 'expanded': 1, 'patting': 1, 'international': 1, 'skills': 1, 'dogs': 1, 'melbourne': 0, 'coffee': 0, 'russel': 1, 'frontend': 1, 'ruby': 0, 'local': 1, 'engineer': 0, 'hotmail.com': 1, 'open-source': 1, 'adequate': 0, 'rapidly': 0, 'sdd': 1, 'beer': 1, 'science': 0, 'kansas': 1, '2016': 3, 'apps': 0, 'systematic': 1, 'phd': 1, 'liaison': 1, '.': 0, 'managed': 2, 'docker': 1, 'enjoy': 1, 'goedecke': 0, ',': 4, 'react': 1, 'craft': 1, 'gutkowski': 1, 'travis': 0, 'gleichner': 1, 'software': 0, 'zendesk': 0, 'interests': 1, 'triathlons': 1, 'needs-based': 1, 'cards': 1, 'drinking': 0, 'hiking': 0}\n"
     ]
    }
   ],
   "source": [
    "#Checking if a value occurs multiple times then incrementing its values\n",
    "for idx in fill_first:\n",
    "    dict1[idx]+=1\n",
    "    \n",
    "for idx in fill_second:\n",
    "    dict2[idx]+=1\n",
    "    \n",
    "\n",
    "#Print the dictionaries\n",
    "print(dict1,'\\n')\n",
    "print(dict2)"
   ]
  },
  {
   "cell_type": "code",
   "execution_count": 11,
   "metadata": {},
   "outputs": [
    {
     "name": "stdout",
     "output_type": "stream",
     "text": [
      "               ci  inverse  sean.goedecke  coder  division  emilio  intern  \\\n",
      "ci              1        0              1      0         0       0       1   \n",
      "inverse         1        0              1      0         0       0       1   \n",
      "sean.goedecke   1        0              1      0         0       0       1   \n",
      "coder           1        0              1      0         0       0       1   \n",
      "division        1        0              1      0         0       0       1   \n",
      "emilio          1        0              1      0         0       0       1   \n",
      "intern          1        0              1      0         0       0       1   \n",
      "hodkiewicz      1        0              1      0         0       0       1   \n",
      "rice            1        0              1      0         0       0       1   \n",
      "rails           1        0              1      0         0       0       1   \n",
      "gmail.com       1        0              1      0         0       0       1   \n",
      "use             1        0              1      0         0       0       1   \n",
      "-               1        0              1      0         0       0       1   \n",
      "good            1        0              1      0         0       0       1   \n",
      "experience      1        0              1      0         0       0       1   \n",
      "horace47        1        0              1      0         0       0       1   \n",
      "indexing        1        0              1      0         0       0       1   \n",
      "rss.js          1        0              1      0         0       0       1   \n",
      "@               1        0              1      0         0       0       1   \n",
      "associate       1        0              1      0         0       0       1   \n",
      "university      1        0              1      0         0       0       1   \n",
      "sean            1        0              1      0         0       0       1   \n",
      "fiction         1        0              1      0         0       0       1   \n",
      "circuit         1        0              1      0         0       0       1   \n",
      "swimming        1        0              1      0         0       0       1   \n",
      "cloud           1        0              1      0         0       0       1   \n",
      "build           1        0              1      0         0       0       1   \n",
      "success         1        0              1      0         0       0       1   \n",
      "franecki        1        0              1      0         0       0       1   \n",
      "education       1        0              1      0         0       0       1   \n",
      "...            ..      ...            ...    ...       ...     ...     ...   \n",
      "adequate        1        0              1      0         0       0       1   \n",
      "rapidly         1        0              1      0         0       0       1   \n",
      "sdd             1        0              1      0         0       0       1   \n",
      "beer            1        0              1      0         0       0       1   \n",
      "science         1        0              1      0         0       0       1   \n",
      "kansas          1        0              1      0         0       0       1   \n",
      "2016            1        0              1      0         0       0       1   \n",
      "apps            1        0              1      0         0       0       1   \n",
      "systematic      1        0              1      0         0       0       1   \n",
      "phd             1        0              1      0         0       0       1   \n",
      "liaison         1        0              1      0         0       0       1   \n",
      ".               1        0              1      0         0       0       1   \n",
      "managed         1        0              1      0         0       0       1   \n",
      "docker          1        0              1      0         0       0       1   \n",
      "enjoy           1        0              1      0         0       0       1   \n",
      "goedecke        1        0              1      0         0       0       1   \n",
      ",               1        0              1      0         0       0       1   \n",
      "react           1        0              1      0         0       0       1   \n",
      "craft           1        0              1      0         0       0       1   \n",
      "gutkowski       1        0              1      0         0       0       1   \n",
      "travis          1        0              1      0         0       0       1   \n",
      "gleichner       1        0              1      0         0       0       1   \n",
      "software        1        0              1      0         0       0       1   \n",
      "zendesk         1        0              1      0         0       0       1   \n",
      "interests       1        0              1      0         0       0       1   \n",
      "triathlons      1        0              1      0         0       0       1   \n",
      "needs-based     1        0              1      0         0       0       1   \n",
      "cards           1        0              1      0         0       0       1   \n",
      "drinking        1        0              1      0         0       0       1   \n",
      "hiking          1        0              1      0         0       0       1   \n",
      "\n",
      "               hodkiewicz  rice  rails   ...    travis  gleichner  software  \\\n",
      "ci                      0     0      2   ...         1          0         2   \n",
      "inverse                 0     0      2   ...         1          0         2   \n",
      "sean.goedecke           0     0      2   ...         1          0         2   \n",
      "coder                   0     0      2   ...         1          0         2   \n",
      "division                0     0      2   ...         1          0         2   \n",
      "emilio                  0     0      2   ...         1          0         2   \n",
      "intern                  0     0      2   ...         1          0         2   \n",
      "hodkiewicz              0     0      2   ...         1          0         2   \n",
      "rice                    0     0      2   ...         1          0         2   \n",
      "rails                   0     0      2   ...         1          0         2   \n",
      "gmail.com               0     0      2   ...         1          0         2   \n",
      "use                     0     0      2   ...         1          0         2   \n",
      "-                       0     0      2   ...         1          0         2   \n",
      "good                    0     0      2   ...         1          0         2   \n",
      "experience              0     0      2   ...         1          0         2   \n",
      "horace47                0     0      2   ...         1          0         2   \n",
      "indexing                0     0      2   ...         1          0         2   \n",
      "rss.js                  0     0      2   ...         1          0         2   \n",
      "@                       0     0      2   ...         1          0         2   \n",
      "associate               0     0      2   ...         1          0         2   \n",
      "university              0     0      2   ...         1          0         2   \n",
      "sean                    0     0      2   ...         1          0         2   \n",
      "fiction                 0     0      2   ...         1          0         2   \n",
      "circuit                 0     0      2   ...         1          0         2   \n",
      "swimming                0     0      2   ...         1          0         2   \n",
      "cloud                   0     0      2   ...         1          0         2   \n",
      "build                   0     0      2   ...         1          0         2   \n",
      "success                 0     0      2   ...         1          0         2   \n",
      "franecki                0     0      2   ...         1          0         2   \n",
      "education               0     0      2   ...         1          0         2   \n",
      "...                   ...   ...    ...   ...       ...        ...       ...   \n",
      "adequate                0     0      2   ...         1          0         2   \n",
      "rapidly                 0     0      2   ...         1          0         2   \n",
      "sdd                     0     0      2   ...         1          0         2   \n",
      "beer                    0     0      2   ...         1          0         2   \n",
      "science                 0     0      2   ...         1          0         2   \n",
      "kansas                  0     0      2   ...         1          0         2   \n",
      "2016                    0     0      2   ...         1          0         2   \n",
      "apps                    0     0      2   ...         1          0         2   \n",
      "systematic              0     0      2   ...         1          0         2   \n",
      "phd                     0     0      2   ...         1          0         2   \n",
      "liaison                 0     0      2   ...         1          0         2   \n",
      ".                       0     0      2   ...         1          0         2   \n",
      "managed                 0     0      2   ...         1          0         2   \n",
      "docker                  0     0      2   ...         1          0         2   \n",
      "enjoy                   0     0      2   ...         1          0         2   \n",
      "goedecke                0     0      2   ...         1          0         2   \n",
      ",                       0     0      2   ...         1          0         2   \n",
      "react                   0     0      2   ...         1          0         2   \n",
      "craft                   0     0      2   ...         1          0         2   \n",
      "gutkowski               0     0      2   ...         1          0         2   \n",
      "travis                  0     0      2   ...         1          0         2   \n",
      "gleichner               0     0      2   ...         1          0         2   \n",
      "software                0     0      2   ...         1          0         2   \n",
      "zendesk                 0     0      2   ...         1          0         2   \n",
      "interests               0     0      2   ...         1          0         2   \n",
      "triathlons              0     0      2   ...         1          0         2   \n",
      "needs-based             0     0      2   ...         1          0         2   \n",
      "cards                   0     0      2   ...         1          0         2   \n",
      "drinking                0     0      2   ...         1          0         2   \n",
      "hiking                  0     0      2   ...         1          0         2   \n",
      "\n",
      "               zendesk  interests  triathlons  needs-based  cards  drinking  \\\n",
      "ci                   3          1           0            0      0         1   \n",
      "inverse              3          1           0            0      0         1   \n",
      "sean.goedecke        3          1           0            0      0         1   \n",
      "coder                3          1           0            0      0         1   \n",
      "division             3          1           0            0      0         1   \n",
      "emilio               3          1           0            0      0         1   \n",
      "intern               3          1           0            0      0         1   \n",
      "hodkiewicz           3          1           0            0      0         1   \n",
      "rice                 3          1           0            0      0         1   \n",
      "rails                3          1           0            0      0         1   \n",
      "gmail.com            3          1           0            0      0         1   \n",
      "use                  3          1           0            0      0         1   \n",
      "-                    3          1           0            0      0         1   \n",
      "good                 3          1           0            0      0         1   \n",
      "experience           3          1           0            0      0         1   \n",
      "horace47             3          1           0            0      0         1   \n",
      "indexing             3          1           0            0      0         1   \n",
      "rss.js               3          1           0            0      0         1   \n",
      "@                    3          1           0            0      0         1   \n",
      "associate            3          1           0            0      0         1   \n",
      "university           3          1           0            0      0         1   \n",
      "sean                 3          1           0            0      0         1   \n",
      "fiction              3          1           0            0      0         1   \n",
      "circuit              3          1           0            0      0         1   \n",
      "swimming             3          1           0            0      0         1   \n",
      "cloud                3          1           0            0      0         1   \n",
      "build                3          1           0            0      0         1   \n",
      "success              3          1           0            0      0         1   \n",
      "franecki             3          1           0            0      0         1   \n",
      "education            3          1           0            0      0         1   \n",
      "...                ...        ...         ...          ...    ...       ...   \n",
      "adequate             3          1           0            0      0         1   \n",
      "rapidly              3          1           0            0      0         1   \n",
      "sdd                  3          1           0            0      0         1   \n",
      "beer                 3          1           0            0      0         1   \n",
      "science              3          1           0            0      0         1   \n",
      "kansas               3          1           0            0      0         1   \n",
      "2016                 3          1           0            0      0         1   \n",
      "apps                 3          1           0            0      0         1   \n",
      "systematic           3          1           0            0      0         1   \n",
      "phd                  3          1           0            0      0         1   \n",
      "liaison              3          1           0            0      0         1   \n",
      ".                    3          1           0            0      0         1   \n",
      "managed              3          1           0            0      0         1   \n",
      "docker               3          1           0            0      0         1   \n",
      "enjoy                3          1           0            0      0         1   \n",
      "goedecke             3          1           0            0      0         1   \n",
      ",                    3          1           0            0      0         1   \n",
      "react                3          1           0            0      0         1   \n",
      "craft                3          1           0            0      0         1   \n",
      "gutkowski            3          1           0            0      0         1   \n",
      "travis               3          1           0            0      0         1   \n",
      "gleichner            3          1           0            0      0         1   \n",
      "software             3          1           0            0      0         1   \n",
      "zendesk              3          1           0            0      0         1   \n",
      "interests            3          1           0            0      0         1   \n",
      "triathlons           3          1           0            0      0         1   \n",
      "needs-based          3          1           0            0      0         1   \n",
      "cards                3          1           0            0      0         1   \n",
      "drinking             3          1           0            0      0         1   \n",
      "hiking               3          1           0            0      0         1   \n",
      "\n",
      "               hiking  \n",
      "ci                  1  \n",
      "inverse             1  \n",
      "sean.goedecke       1  \n",
      "coder               1  \n",
      "division            1  \n",
      "emilio              1  \n",
      "intern              1  \n",
      "hodkiewicz          1  \n",
      "rice                1  \n",
      "rails               1  \n",
      "gmail.com           1  \n",
      "use                 1  \n",
      "-                   1  \n",
      "good                1  \n",
      "experience          1  \n",
      "horace47            1  \n",
      "indexing            1  \n",
      "rss.js              1  \n",
      "@                   1  \n",
      "associate           1  \n",
      "university          1  \n",
      "sean                1  \n",
      "fiction             1  \n",
      "circuit             1  \n",
      "swimming            1  \n",
      "cloud               1  \n",
      "build               1  \n",
      "success             1  \n",
      "franecki            1  \n",
      "education           1  \n",
      "...               ...  \n",
      "adequate            1  \n",
      "rapidly             1  \n",
      "sdd                 1  \n",
      "beer                1  \n",
      "science             1  \n",
      "kansas              1  \n",
      "2016                1  \n",
      "apps                1  \n",
      "systematic          1  \n",
      "phd                 1  \n",
      "liaison             1  \n",
      ".                   1  \n",
      "managed             1  \n",
      "docker              1  \n",
      "enjoy               1  \n",
      "goedecke            1  \n",
      ",                   1  \n",
      "react               1  \n",
      "craft               1  \n",
      "gutkowski           1  \n",
      "travis              1  \n",
      "gleichner           1  \n",
      "software            1  \n",
      "zendesk             1  \n",
      "interests           1  \n",
      "triathlons          1  \n",
      "needs-based         1  \n",
      "cards               1  \n",
      "drinking            1  \n",
      "hiking              1  \n",
      "\n",
      "[79 rows x 79 columns]\n"
     ]
    }
   ],
   "source": [
    "#Representing the above documents into a dataframe for better visualization\n",
    "final_doc = pd.DataFrame(dict1,dict2)\n",
    "print(final_doc) #Depicting the following dictionaries into dataframe for representation"
   ]
  },
  {
   "cell_type": "markdown",
   "metadata": {},
   "source": [
    "##### Computing the TF(Term Frequency) for each word in the given document. \n",
    "The formula for calculating the term frequency is given by:\n",
    "\n",
    "###                     TF = ( No. of times a word occur in document ) / ( Total no.of words in documents )\n"
   ]
  },
  {
   "cell_type": "code",
   "execution_count": 12,
   "metadata": {},
   "outputs": [
    {
     "name": "stdout",
     "output_type": "stream",
     "text": [
      "52 58\n"
     ]
    }
   ],
   "source": [
    "#Printing the lengths of the documents \n",
    "print(len(fill_first),len(fill_second))"
   ]
  },
  {
   "cell_type": "code",
   "execution_count": 13,
   "metadata": {},
   "outputs": [
    {
     "data": {
      "text/plain": [
       "dict_items([('ci', 1), ('inverse', 0), ('sean.goedecke', 1), ('coder', 0), ('division', 0), ('emilio', 0), ('intern', 1), ('hodkiewicz', 0), ('rice', 0), ('rails', 2), ('gmail.com', 1), ('use', 1), ('-', 2), ('good', 1), ('experience', 1), ('horace47', 0), ('indexing', 0), ('rss.js', 0), ('@', 1), ('associate', 1), ('university', 1), ('sean', 1), ('fiction', 1), ('circuit', 0), ('swimming', 0), ('cloud', 0), ('build', 2), ('success', 0), ('franecki', 0), ('education', 1), ('completed', 1), ('philosophy', 1), ('2015', 1), ('theatre', 0), ('2017', 1), ('expanded', 0), ('patting', 0), ('international', 0), ('skills', 1), ('dogs', 0), ('melbourne', 1), ('coffee', 1), ('russel', 0), ('frontend', 0), ('ruby', 2), ('local', 0), ('engineer', 1), ('hotmail.com', 0), ('open-source', 0), ('adequate', 1), ('rapidly', 1), ('sdd', 0), ('beer', 0), ('science', 1), ('kansas', 0), ('2016', 3), ('apps', 1), ('systematic', 0), ('phd', 0), ('liaison', 0), ('.', 1), ('managed', 0), ('docker', 1), ('enjoy', 1), ('goedecke', 1), (',', 1), ('react', 2), ('craft', 0), ('gutkowski', 0), ('travis', 1), ('gleichner', 0), ('software', 2), ('zendesk', 3), ('interests', 1), ('triathlons', 0), ('needs-based', 0), ('cards', 0), ('drinking', 1), ('hiking', 1)])"
      ]
     },
     "execution_count": 13,
     "metadata": {},
     "output_type": "execute_result"
    }
   ],
   "source": [
    "#Getting to know what is present within the dictionaries\n",
    "dict1.items()"
   ]
  },
  {
   "cell_type": "markdown",
   "metadata": {},
   "source": [
    "##### Defining a function named compute_df()that takes in two parameters ; Dict : is the dictionary that is having all the key-value pairs ; fill : set of unique words according to the given documents"
   ]
  },
  {
   "cell_type": "code",
   "execution_count": 14,
   "metadata": {},
   "outputs": [
    {
     "name": "stdout",
     "output_type": "stream",
     "text": [
      "{'ci': 0.019230769230769232, 'inverse': 0.0, 'sean.goedecke': 0.019230769230769232, 'coder': 0.0, 'division': 0.0, 'emilio': 0.0, 'intern': 0.019230769230769232, 'hodkiewicz': 0.0, 'rice': 0.0, 'rails': 0.038461538461538464, 'gmail.com': 0.019230769230769232, 'use': 0.019230769230769232, '-': 0.038461538461538464, 'good': 0.019230769230769232, 'experience': 0.019230769230769232, 'horace47': 0.0, 'indexing': 0.0, 'rss.js': 0.0, '@': 0.019230769230769232, 'associate': 0.019230769230769232, 'university': 0.019230769230769232, 'sean': 0.019230769230769232, 'fiction': 0.019230769230769232, 'circuit': 0.0, 'swimming': 0.0, 'cloud': 0.0, 'build': 0.038461538461538464, 'success': 0.0, 'franecki': 0.0, 'education': 0.019230769230769232, 'completed': 0.019230769230769232, 'philosophy': 0.019230769230769232, '2015': 0.019230769230769232, 'theatre': 0.0, '2017': 0.019230769230769232, 'expanded': 0.0, 'patting': 0.0, 'international': 0.0, 'skills': 0.019230769230769232, 'dogs': 0.0, 'melbourne': 0.019230769230769232, 'coffee': 0.019230769230769232, 'russel': 0.0, 'frontend': 0.0, 'ruby': 0.038461538461538464, 'local': 0.0, 'engineer': 0.019230769230769232, 'hotmail.com': 0.0, 'open-source': 0.0, 'adequate': 0.019230769230769232, 'rapidly': 0.019230769230769232, 'sdd': 0.0, 'beer': 0.0, 'science': 0.019230769230769232, 'kansas': 0.0, '2016': 0.057692307692307696, 'apps': 0.019230769230769232, 'systematic': 0.0, 'phd': 0.0, 'liaison': 0.0, '.': 0.019230769230769232, 'managed': 0.0, 'docker': 0.019230769230769232, 'enjoy': 0.019230769230769232, 'goedecke': 0.019230769230769232, ',': 0.019230769230769232, 'react': 0.038461538461538464, 'craft': 0.0, 'gutkowski': 0.0, 'travis': 0.019230769230769232, 'gleichner': 0.0, 'software': 0.038461538461538464, 'zendesk': 0.057692307692307696, 'interests': 0.019230769230769232, 'triathlons': 0.0, 'needs-based': 0.0, 'cards': 0.0, 'drinking': 0.019230769230769232, 'hiking': 0.019230769230769232}\n",
      "\n",
      "{'ci': 0.0, 'inverse': 0.017241379310344827, 'sean.goedecke': 0.0, 'coder': 0.017241379310344827, 'division': 0.017241379310344827, 'emilio': 0.017241379310344827, 'intern': 0.0, 'hodkiewicz': 0.017241379310344827, 'rice': 0.017241379310344827, 'rails': 0.0, 'gmail.com': 0.0, 'use': 0.0, '-': 0.017241379310344827, 'good': 0.0, 'experience': 0.017241379310344827, 'horace47': 0.017241379310344827, 'indexing': 0.017241379310344827, 'rss.js': 0.017241379310344827, '@': 0.017241379310344827, 'associate': 0.0, 'university': 0.017241379310344827, 'sean': 0.0, 'fiction': 0.0, 'circuit': 0.017241379310344827, 'swimming': 0.017241379310344827, 'cloud': 0.017241379310344827, 'build': 0.017241379310344827, 'success': 0.017241379310344827, 'franecki': 0.017241379310344827, 'education': 0.017241379310344827, 'completed': 0.017241379310344827, 'philosophy': 0.017241379310344827, '2015': 0.0, 'theatre': 0.017241379310344827, '2017': 0.0, 'expanded': 0.017241379310344827, 'patting': 0.017241379310344827, 'international': 0.017241379310344827, 'skills': 0.017241379310344827, 'dogs': 0.017241379310344827, 'melbourne': 0.0, 'coffee': 0.0, 'russel': 0.017241379310344827, 'frontend': 0.017241379310344827, 'ruby': 0.0, 'local': 0.017241379310344827, 'engineer': 0.0, 'hotmail.com': 0.017241379310344827, 'open-source': 0.017241379310344827, 'adequate': 0.0, 'rapidly': 0.0, 'sdd': 0.017241379310344827, 'beer': 0.017241379310344827, 'science': 0.0, 'kansas': 0.017241379310344827, '2016': 0.05172413793103448, 'apps': 0.0, 'systematic': 0.017241379310344827, 'phd': 0.017241379310344827, 'liaison': 0.017241379310344827, '.': 0.0, 'managed': 0.034482758620689655, 'docker': 0.017241379310344827, 'enjoy': 0.017241379310344827, 'goedecke': 0.0, ',': 0.06896551724137931, 'react': 0.017241379310344827, 'craft': 0.017241379310344827, 'gutkowski': 0.017241379310344827, 'travis': 0.0, 'gleichner': 0.017241379310344827, 'software': 0.0, 'zendesk': 0.0, 'interests': 0.017241379310344827, 'triathlons': 0.017241379310344827, 'needs-based': 0.017241379310344827, 'cards': 0.017241379310344827, 'drinking': 0.0, 'hiking': 0.0}\n"
     ]
    }
   ],
   "source": [
    "#Defining a function to calculate the Term Frequency\n",
    "def compute_tf(Dict,fill):\n",
    "    word_count = len(fill)\n",
    "    for key,value in Dict.items():\n",
    "        Dict[key] = (value)/float(word_count)\n",
    "    return Dict\n",
    "    \n",
    "    \n",
    "doc1_tf = compute_tf(dict1,fill_first)\n",
    "doc2_tf = compute_tf(dict2,fill_second)\n",
    "\n",
    "print(doc1_tf)\n",
    "print()\n",
    "print(doc2_tf)"
   ]
  },
  {
   "attachments": {
    "image.png": {
     "image/png": "[encoded data removed]"
    }
   },
   "cell_type": "markdown",
   "metadata": {},
   "source": [
    "###### Defining a function named compute_idf() that takes in only one parameter; list_doc : is a combination of all the dictionary present passed like a list. \n",
    "                                             \n",
    "###            IDF =  ( Total no.of documents in corpus ) / ( No.of documents have that perticular word )\n",
    "\n",
    "![image.png](attachment:image.png)\n",
    "                     \n"
   ]
  },
  {
   "cell_type": "code",
   "execution_count": 15,
   "metadata": {},
   "outputs": [
    {
     "name": "stdout",
     "output_type": "stream",
     "text": [
      "Word \t Value\n",
      "ci 1\n",
      "\n",
      "inverse 0\n",
      "\n",
      "sean.goedecke 1\n",
      "\n",
      "coder 0\n",
      "\n",
      "division 0\n",
      "\n",
      "emilio 0\n",
      "\n",
      "intern 1\n",
      "\n",
      "hodkiewicz 0\n",
      "\n",
      "rice 0\n",
      "\n",
      "rails 1\n",
      "\n",
      "gmail.com 1\n",
      "\n",
      "use 1\n",
      "\n",
      "- 1\n",
      "\n",
      "good 1\n",
      "\n",
      "experience 1\n",
      "\n",
      "horace47 0\n",
      "\n",
      "indexing 0\n",
      "\n",
      "rss.js 0\n",
      "\n",
      "@ 1\n",
      "\n",
      "associate 1\n",
      "\n",
      "university 1\n",
      "\n",
      "sean 1\n",
      "\n",
      "fiction 1\n",
      "\n",
      "circuit 0\n",
      "\n",
      "swimming 0\n",
      "\n",
      "cloud 0\n",
      "\n",
      "build 1\n",
      "\n",
      "success 0\n",
      "\n",
      "franecki 0\n",
      "\n",
      "education 1\n",
      "\n",
      "completed 1\n",
      "\n",
      "philosophy 1\n",
      "\n",
      "2015 1\n",
      "\n",
      "theatre 0\n",
      "\n",
      "2017 1\n",
      "\n",
      "expanded 0\n",
      "\n",
      "patting 0\n",
      "\n",
      "international 0\n",
      "\n",
      "skills 1\n",
      "\n",
      "dogs 0\n",
      "\n",
      "melbourne 1\n",
      "\n",
      "coffee 1\n",
      "\n",
      "russel 0\n",
      "\n",
      "frontend 0\n",
      "\n",
      "ruby 1\n",
      "\n",
      "local 0\n",
      "\n",
      "engineer 1\n",
      "\n",
      "hotmail.com 0\n",
      "\n",
      "open-source 0\n",
      "\n",
      "adequate 1\n",
      "\n",
      "rapidly 1\n",
      "\n",
      "sdd 0\n",
      "\n",
      "beer 0\n",
      "\n",
      "science 1\n",
      "\n",
      "kansas 0\n",
      "\n",
      "2016 1\n",
      "\n",
      "apps 1\n",
      "\n",
      "systematic 0\n",
      "\n",
      "phd 0\n",
      "\n",
      "liaison 0\n",
      "\n",
      ". 1\n",
      "\n",
      "managed 0\n",
      "\n",
      "docker 1\n",
      "\n",
      "enjoy 1\n",
      "\n",
      "goedecke 1\n",
      "\n",
      ", 1\n",
      "\n",
      "react 1\n",
      "\n",
      "craft 0\n",
      "\n",
      "gutkowski 0\n",
      "\n",
      "travis 1\n",
      "\n",
      "gleichner 0\n",
      "\n",
      "software 1\n",
      "\n",
      "zendesk 1\n",
      "\n",
      "interests 1\n",
      "\n",
      "triathlons 0\n",
      "\n",
      "needs-based 0\n",
      "\n",
      "cards 0\n",
      "\n",
      "drinking 1\n",
      "\n",
      "hiking 1\n",
      "\n",
      "<class 'dict'>\n",
      "\n",
      "{'ci': 0.6931471805599453, 'inverse': 0, 'sean.goedecke': 0.6931471805599453, 'coder': 0, 'division': 0, 'emilio': 0, 'intern': 0.6931471805599453, 'hodkiewicz': 0, 'rice': 0, 'rails': 0.6931471805599453, 'gmail.com': 0.6931471805599453, 'use': 0.6931471805599453, '-': 0.6931471805599453, 'good': 0.6931471805599453, 'experience': 0.6931471805599453, 'horace47': 0, 'indexing': 0, 'rss.js': 0, '@': 0.6931471805599453, 'associate': 0.6931471805599453, 'university': 0.6931471805599453, 'sean': 0.6931471805599453, 'fiction': 0.6931471805599453, 'circuit': 0, 'swimming': 0, 'cloud': 0, 'build': 0.6931471805599453, 'success': 0, 'franecki': 0, 'education': 0.6931471805599453, 'completed': 0.6931471805599453, 'philosophy': 0.6931471805599453, '2015': 0.6931471805599453, 'theatre': 0, '2017': 0.6931471805599453, 'expanded': 0, 'patting': 0, 'international': 0, 'skills': 0.6931471805599453, 'dogs': 0, 'melbourne': 0.6931471805599453, 'coffee': 0.6931471805599453, 'russel': 0, 'frontend': 0, 'ruby': 0.6931471805599453, 'local': 0, 'engineer': 0.6931471805599453, 'hotmail.com': 0, 'open-source': 0, 'adequate': 0.6931471805599453, 'rapidly': 0.6931471805599453, 'sdd': 0, 'beer': 0, 'science': 0.6931471805599453, 'kansas': 0, '2016': 0.6931471805599453, 'apps': 0.6931471805599453, 'systematic': 0, 'phd': 0, 'liaison': 0, '.': 0.6931471805599453, 'managed': 0, 'docker': 0.6931471805599453, 'enjoy': 0.6931471805599453, 'goedecke': 0.6931471805599453, ',': 0.6931471805599453, 'react': 0.6931471805599453, 'craft': 0, 'gutkowski': 0, 'travis': 0.6931471805599453, 'gleichner': 0, 'software': 0.6931471805599453, 'zendesk': 0.6931471805599453, 'interests': 0.6931471805599453, 'triathlons': 0, 'needs-based': 0, 'cards': 0, 'drinking': 0.6931471805599453, 'hiking': 0.6931471805599453}\n"
     ]
    }
   ],
   "source": [
    "#defining a function to calculate the IDF\n",
    "def compute_idf(list_doc):\n",
    "    #find length\n",
    "    n = len(list_doc)\n",
    "    dict_idf = {} #empty dictionary\n",
    "    dict_idf = dict.fromkeys(list_doc[0],0)  #assigning the words onto the Dictionary\n",
    "    \n",
    "    for document in list_doc:\n",
    "        for word,value in document.items():\n",
    "            if(value>0):\n",
    "                dict_idf[word]+=1\n",
    "                \n",
    "        print(\"Word \\t Value\")\n",
    "        for word,value in dict_idf.items():\n",
    "            print(word,value)\n",
    "            print()\n",
    "            if value == 0:\n",
    "                dict_idf[word] = 0\n",
    "                                                        #The if statements are to check if there are any zero values\n",
    "            if value != 0:\n",
    "                dict_idf[word] = math.log(n/float(value))\n",
    "            \n",
    "        return dict_idf\n",
    "    \n",
    "\n",
    "#Calling the function\n",
    "idf = compute_idf([dict1,dict2])\n",
    "\n",
    "#Printing the document\n",
    "print(type(idf))\n",
    "print()\n",
    "print(idf)\n"
   ]
  },
  {
   "cell_type": "markdown",
   "metadata": {},
   "source": [
    "#### Defining a fuction named compute_tfidf() that calculates the Term Frequency Inverse Document Function for the given resumes "
   ]
  },
  {
   "cell_type": "code",
   "execution_count": 17,
   "metadata": {},
   "outputs": [
    {
     "name": "stdout",
     "output_type": "stream",
     "text": [
      "          ,         -        .     2015      2016     2017         @  \\\n",
      "0  0.013330  0.026660  0.01333  0.01333  0.039989  0.01333  0.013330   \n",
      "1  0.047803  0.011951  0.00000  0.00000  0.035852  0.00000  0.011951   \n",
      "\n",
      "   adequate     apps  associate    ...     software  success  swimming  \\\n",
      "0   0.01333  0.01333    0.01333    ...      0.02666      0.0       0.0   \n",
      "1   0.00000  0.00000    0.00000    ...      0.00000      0.0       0.0   \n",
      "\n",
      "   systematic  theatre   travis  triathlons  university      use   zendesk  \n",
      "0         0.0      0.0  0.01333         0.0    0.013330  0.01333  0.039989  \n",
      "1         0.0      0.0  0.00000         0.0    0.011951  0.00000  0.000000  \n",
      "\n",
      "[2 rows x 79 columns]\n",
      "\n",
      "<class 'list'>\n",
      "\n",
      "[('2016', 0.03998926041691992), ('zendesk', 0.03998926041691992), ('rails', 0.026659506944613283), ('-', 0.026659506944613283), ('build', 0.026659506944613283), ('ruby', 0.026659506944613283), ('react', 0.026659506944613283), ('software', 0.026659506944613283), ('ci', 0.013329753472306641), ('sean.goedecke', 0.013329753472306641), ('intern', 0.013329753472306641), ('gmail.com', 0.013329753472306641), ('use', 0.013329753472306641), ('good', 0.013329753472306641), ('experience', 0.013329753472306641), ('@', 0.013329753472306641), ('associate', 0.013329753472306641), ('university', 0.013329753472306641), ('sean', 0.013329753472306641), ('fiction', 0.013329753472306641), ('education', 0.013329753472306641), ('completed', 0.013329753472306641), ('philosophy', 0.013329753472306641), ('2015', 0.013329753472306641), ('2017', 0.013329753472306641), ('skills', 0.013329753472306641), ('melbourne', 0.013329753472306641), ('coffee', 0.013329753472306641), ('engineer', 0.013329753472306641), ('adequate', 0.013329753472306641), ('rapidly', 0.013329753472306641), ('science', 0.013329753472306641), ('apps', 0.013329753472306641), ('.', 0.013329753472306641), ('docker', 0.013329753472306641), ('enjoy', 0.013329753472306641), ('goedecke', 0.013329753472306641), (',', 0.013329753472306641), ('travis', 0.013329753472306641), ('interests', 0.013329753472306641), ('drinking', 0.013329753472306641), ('hiking', 0.013329753472306641), ('inverse', 0.0), ('coder', 0.0), ('division', 0.0), ('emilio', 0.0), ('hodkiewicz', 0.0), ('rice', 0.0), ('horace47', 0.0), ('indexing', 0.0), ('rss.js', 0.0), ('circuit', 0.0), ('swimming', 0.0), ('cloud', 0.0), ('success', 0.0), ('franecki', 0.0), ('theatre', 0.0), ('expanded', 0.0), ('patting', 0.0), ('international', 0.0), ('dogs', 0.0), ('russel', 0.0), ('frontend', 0.0), ('local', 0.0), ('hotmail.com', 0.0), ('open-source', 0.0), ('sdd', 0.0), ('beer', 0.0), ('kansas', 0.0), ('systematic', 0.0), ('phd', 0.0), ('liaison', 0.0), ('managed', 0.0), ('craft', 0.0), ('gutkowski', 0.0), ('gleichner', 0.0), ('triathlons', 0.0), ('needs-based', 0.0), ('cards', 0.0)]\n",
      "\n",
      "<class 'list'>\n",
      "\n",
      "[(',', 0.04780325383172036), ('2016', 0.035852440373790276), ('-', 0.01195081345793009), ('experience', 0.01195081345793009), ('@', 0.01195081345793009), ('university', 0.01195081345793009), ('build', 0.01195081345793009), ('education', 0.01195081345793009), ('completed', 0.01195081345793009), ('philosophy', 0.01195081345793009), ('skills', 0.01195081345793009), ('docker', 0.01195081345793009), ('enjoy', 0.01195081345793009), ('react', 0.01195081345793009), ('interests', 0.01195081345793009), ('ci', 0.0), ('inverse', 0.0), ('sean.goedecke', 0.0), ('coder', 0.0), ('division', 0.0), ('emilio', 0.0), ('intern', 0.0), ('hodkiewicz', 0.0), ('rice', 0.0), ('rails', 0.0), ('gmail.com', 0.0), ('use', 0.0), ('good', 0.0), ('horace47', 0.0), ('indexing', 0.0), ('rss.js', 0.0), ('associate', 0.0), ('sean', 0.0), ('fiction', 0.0), ('circuit', 0.0), ('swimming', 0.0), ('cloud', 0.0), ('success', 0.0), ('franecki', 0.0), ('2015', 0.0), ('theatre', 0.0), ('2017', 0.0), ('expanded', 0.0), ('patting', 0.0), ('international', 0.0), ('dogs', 0.0), ('melbourne', 0.0), ('coffee', 0.0), ('russel', 0.0), ('frontend', 0.0), ('ruby', 0.0), ('local', 0.0), ('engineer', 0.0), ('hotmail.com', 0.0), ('open-source', 0.0), ('adequate', 0.0), ('rapidly', 0.0), ('sdd', 0.0), ('beer', 0.0), ('science', 0.0), ('kansas', 0.0), ('apps', 0.0), ('systematic', 0.0), ('phd', 0.0), ('liaison', 0.0), ('.', 0.0), ('managed', 0.0), ('goedecke', 0.0), ('craft', 0.0), ('gutkowski', 0.0), ('travis', 0.0), ('gleichner', 0.0), ('software', 0.0), ('zendesk', 0.0), ('triathlons', 0.0), ('needs-based', 0.0), ('cards', 0.0), ('drinking', 0.0), ('hiking', 0.0)]\n"
     ]
    }
   ],
   "source": [
    "#Computing the TfIdf\n",
    "def compute_tfidf(doc_tf,idfs):\n",
    "    tfidf = {}\n",
    "    for word, value in doc_tf.items():\n",
    "        tfidf[word] = value * idfs[word]\n",
    "    return tfidf\n",
    "\n",
    "\n",
    "#Calling the function with their respective term frequencies and their IDF's\n",
    "tfidf_doc1 = compute_tfidf(doc1_tf,idf)\n",
    "tfidf_doc2 = compute_tfidf(doc2_tf,idf)\n",
    "print(pd.DataFrame([tfidf_doc1,tfidf_doc2]))\n",
    "\n",
    "\n",
    "#Sorting the given data in decreasing order so that unique words gets known\n",
    "sort_tfidf_doc1 = sorted(tfidf_doc1.items(), key = operator.itemgetter(1), reverse = True)\n",
    "print()\n",
    "print(type(sort_tfidf_doc1))\n",
    "print()\n",
    "print(sort_tfidf_doc1)\n",
    "\n",
    "# tfidf_doc2 = {'tfidf_doc1': sort_tfidf_doc1}\n",
    "# print()\n",
    "# print(tfidf_doc2)\n",
    "\n",
    "sort_tfidf_doc2 = sorted(tfidf_doc2.items(), key = operator.itemgetter(1), reverse = True)\n",
    "print()\n",
    "print(type(sort_tfidf_doc2))\n",
    "print()\n",
    "print(sort_tfidf_doc2)\n",
    "\n",
    "#Saving the particular documents onto the files\n",
    "\n",
    "with open('tfidf_doc1.txt','w') as file:\n",
    "    file.write(json.dumps(sort_tfidf_doc1))#,tfidf_doc2))\n",
    "\n",
    "with open('tfidf_doc2.txt','w') as file:\n",
    "    file.write(json.dumps(sort_tfidf_doc2))\n",
    "\n",
    "\n",
    "#Creating a final dictionary(document) that contains all the tfidf\n",
    "final_tfidf =  {'tfidf_doc1' : sort_tfidf_doc1,\n",
    "                'tfidf_doc2' : sort_tfidf_doc2}\n",
    "    \n",
    "with open('final_tfidf.txt','w') as file:\n",
    "    file.write(json.dumps(final_tfidf))\n"
   ]
  },
  {
   "cell_type": "code",
   "execution_count": null,
   "metadata": {},
   "outputs": [],
   "source": []
  },
  {
   "cell_type": "code",
   "execution_count": null,
   "metadata": {},
   "outputs": [],
   "source": []
  }
 ],
 "metadata": {
  "kernelspec": {
   "display_name": "Python 3",
   "language": "python",
   "name": "python3"
  },
  "language_info": {
   "codemirror_mode": {
    "name": "ipython",
    "version": 3
   },
   "file_extension": ".py",
   "mimetype": "text/x-python",
   "name": "python",
   "nbconvert_exporter": "python",
   "pygments_lexer": "ipython3",
   "version": "3.6.5"
  }
 },
 "nbformat": 4,
 "nbformat_minor": 2
}
